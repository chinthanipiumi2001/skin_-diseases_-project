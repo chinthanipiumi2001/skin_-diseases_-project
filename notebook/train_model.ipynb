{
 "cells": [
  {
   "cell_type": "code",
   "execution_count": 6,
   "id": "ede1e101-2e2d-4308-9f35-48c13996a52e",
   "metadata": {},
   "outputs": [
    {
     "name": "stdout",
     "output_type": "stream",
     "text": [
      "Requirement already satisfied: split_folders in d:\\skin_-diseases_-project\\env\\lib\\site-packages (0.5.1)\n"
     ]
    }
   ],
   "source": [
    "!pip install split_folders"
   ]
  },
  {
   "cell_type": "code",
   "execution_count": 2,
   "id": "e9a18c39-af1e-479c-8ad7-eb9239e0106c",
   "metadata": {},
   "outputs": [
    {
     "name": "stdout",
     "output_type": "stream",
     "text": [
      "Python 3.10.0\n"
     ]
    }
   ],
   "source": [
    "!python --version"
   ]
  },
  {
   "cell_type": "code",
   "execution_count": 3,
   "id": "1503f56d-65df-4984-b771-628387e2296a",
   "metadata": {},
   "outputs": [],
   "source": [
    "import os\n",
    "import shutil\n",
    "import splitfolders\n",
    "import pandas as pd"
   ]
  },
  {
   "cell_type": "code",
   "execution_count": 4,
   "id": "d4b33d9d-fcdc-4e3e-8c7c-4e06c7839646",
   "metadata": {},
   "outputs": [],
   "source": [
    "from typing import Union\n",
    "\n",
    "class ClassifyDatasets:\n",
    "    def __init__(self, datasets: str = None, input_dataset: str = None) -> None:\n",
    "        self.datasets = datasets\n",
    "        self.input_dataset = input_dataset  # extracting input data in here\n",
    "        if not os.path.exists(self.input_dataset):\n",
    "            os.makedirs(self.input_dataset)\n",
    "\n",
    "    def list_dirs_files(self, path: str = None) -> list:\n",
    "        return os.listdir(path)\n",
    "    \n",
    "    def unpack_archive(self, zip_path: str, extract_dir: str) -> None:\n",
    "        if os.path.splitext(zip_path)[1] in self.archived_extensions:\n",
    "            shutil.unpack_archive(zip_path, extract_dir=extract_dir)\n",
    "\n",
    "    def _process_csvfile(self, csvfile: str = None) -> tuple:\n",
    "        df = pd.read_csv(csvfile)\n",
    "        df = df.fillna('unknown')\n",
    "        columns = [\"isic_id\", \"diagnosis\", \"image_type\"]\n",
    "        df[\"isic_id\"] = df[\"isic_id\"].apply(lambda x: x + \".JPG\")\n",
    "        zipped_columns = tuple(df[columns].values)\n",
    "        return zipped_columns\n",
    "\n",
    "    def _copy_file(self, src_path: str, dest_path: str) -> bool:\n",
    "        try:\n",
    "            shutil.copy(src_path, dest_path)\n",
    "            return True\n",
    "        except FileNotFoundError:\n",
    "            print(f'ERROR: File not found error {src_path}')\n",
    "        except shutil.Error:\n",
    "            print(f'Destination file already exists {src_path}')\n",
    "            self.duplicate_count += 1\n",
    "        return False\n",
    "\n",
    "    def _process_zipped_columns(self, zipped_columns: zip = None, image_files_list: list = []) -> int:\n",
    "        count = 0\n",
    "        self.duplicate_count = 0\n",
    "        for column in zipped_columns:\n",
    "            image_path = os.path.join(self.zipfile_path, column[0])\n",
    "            classified_dataset_path = os.path.join(self.input_dataset, column[1])\n",
    "            if os.path.exists(image_path) and column[2] == 'dermoscopic':\n",
    "                print(image_path)\n",
    "                if not os.path.exists(classified_dataset_path):\n",
    "                    os.makedirs(classified_dataset_path)\n",
    "                if self._copy_file(image_path, classified_dataset_path):\n",
    "                    count += 1\n",
    "        return count\n",
    "    \n",
    "    def classify_dataset_using_archived(self, image_files_list: list = []) -> Union[int, None]:\n",
    "        zipped_columns = self._process_csvfile(csvfile=self.csvfile)\n",
    "        # print(len(zipped_columns), len(image_files_list))\n",
    "        print(self.zipfile_path)\n",
    "        return self._process_zipped_columns(zipped_columns, image_files_list)\n",
    "\n",
    "    def filter_image_list(self, path: str = None):\n",
    "        if '.JPG' in path:\n",
    "            return path\n",
    "        return None\n",
    "    \n",
    "    def process_datasets(self, dataset_dir: str = None) -> Union[bool, int, None]:\n",
    "        if dataset_dir is None:\n",
    "            return False\n",
    "        dataset_with_metadata = os.path.join(self.datasets, dataset_dir)\n",
    "        list_dataset_files = self.list_dirs_files(dataset_with_metadata)\n",
    "        self.csvfile = None\n",
    "        self.zipfile_path = os.path.join(dataset_with_metadata, 'archive')\n",
    "        image_files_list = map(self.filter_image_list, self.list_dirs_files(self.zipfile_path))\n",
    "        image_files_list = [image_path for image_path in image_files_list if image_path is not None]\n",
    "        # print(len(image_files_list))\n",
    "        for file in list_dataset_files:\n",
    "            if os.path.splitext(file)[1] == '.csv':\n",
    "                self.csvfile = os.path.join(dataset_with_metadata, file)\n",
    "        if self.csvfile:\n",
    "            count = self.classify_dataset_using_archived(image_files_list)\n",
    "            return count\n",
    "        else:\n",
    "            print(f'Zip and CSV not found in {dataset_with_metadata}')\n",
    "        \n",
    "    def _main(self):\n",
    "        list_dirs_files = self.list_dirs_files(self.datasets)\n",
    "        result_processed_datasets = list(map(self.process_datasets, list_dirs_files))\n",
    "        print(result_processed_datasets)\n",
    "\n"
   ]
  },
  {
   "cell_type": "code",
   "execution_count": 5,
   "id": "7e573bc5-065a-4b80-92b9-5a62c850e57c",
   "metadata": {},
   "outputs": [
    {
     "data": {
      "text/plain": [
       "'D:\\\\skin_-diseases_-project\\\\notebook'"
      ]
     },
     "execution_count": 5,
     "metadata": {},
     "output_type": "execute_result"
    }
   ],
   "source": [
    "os.getcwd()"
   ]
  },
  {
   "cell_type": "code",
   "execution_count": 7,
   "id": "7fa7e006-1e96-449f-9a79-e9f2a564d310",
   "metadata": {},
   "outputs": [],
   "source": [
    "#!ls ../input/dermoscopic/datasets\n",
    "input_folder_path = \"../dataset\"\n",
    "input_dataset = 'dataset/'"
   ]
  },
  {
   "cell_type": "code",
   "execution_count": 9,
   "id": "c4e20611-250f-496c-ab5f-a7ae26e4e52e",
   "metadata": {},
   "outputs": [
    {
     "ename": "FileNotFoundError",
     "evalue": "[WinError 3] The system cannot find the path specified: '../dataset\\\\1. Eczema 1677\\\\archive'",
     "output_type": "error",
     "traceback": [
      "\u001b[1;31m---------------------------------------------------------------------------\u001b[0m",
      "\u001b[1;31mFileNotFoundError\u001b[0m                         Traceback (most recent call last)",
      "Cell \u001b[1;32mIn[9], line 3\u001b[0m\n\u001b[0;32m      1\u001b[0m cd \u001b[38;5;241m=\u001b[39m ClassifyDatasets(datasets\u001b[38;5;241m=\u001b[39minput_folder_path,\n\u001b[0;32m      2\u001b[0m                       input_dataset\u001b[38;5;241m=\u001b[39minput_dataset)\n\u001b[1;32m----> 3\u001b[0m \u001b[38;5;28mprint\u001b[39m(\u001b[43mcd\u001b[49m\u001b[38;5;241;43m.\u001b[39;49m\u001b[43m_main\u001b[49m\u001b[43m(\u001b[49m\u001b[43m)\u001b[49m)\n",
      "Cell \u001b[1;32mIn[4], line 82\u001b[0m, in \u001b[0;36mClassifyDatasets._main\u001b[1;34m(self)\u001b[0m\n\u001b[0;32m     80\u001b[0m \u001b[38;5;28;01mdef\u001b[39;00m \u001b[38;5;21m_main\u001b[39m(\u001b[38;5;28mself\u001b[39m):\n\u001b[0;32m     81\u001b[0m     list_dirs_files \u001b[38;5;241m=\u001b[39m \u001b[38;5;28mself\u001b[39m\u001b[38;5;241m.\u001b[39mlist_dirs_files(\u001b[38;5;28mself\u001b[39m\u001b[38;5;241m.\u001b[39mdatasets)\n\u001b[1;32m---> 82\u001b[0m     result_processed_datasets \u001b[38;5;241m=\u001b[39m \u001b[38;5;28;43mlist\u001b[39;49m\u001b[43m(\u001b[49m\u001b[38;5;28;43mmap\u001b[39;49m\u001b[43m(\u001b[49m\u001b[38;5;28;43mself\u001b[39;49m\u001b[38;5;241;43m.\u001b[39;49m\u001b[43mprocess_datasets\u001b[49m\u001b[43m,\u001b[49m\u001b[43m \u001b[49m\u001b[43mlist_dirs_files\u001b[49m\u001b[43m)\u001b[49m\u001b[43m)\u001b[49m\n\u001b[0;32m     83\u001b[0m     \u001b[38;5;28mprint\u001b[39m(result_processed_datasets)\n",
      "Cell \u001b[1;32mIn[4], line 68\u001b[0m, in \u001b[0;36mClassifyDatasets.process_datasets\u001b[1;34m(self, dataset_dir)\u001b[0m\n\u001b[0;32m     66\u001b[0m \u001b[38;5;28mself\u001b[39m\u001b[38;5;241m.\u001b[39mcsvfile \u001b[38;5;241m=\u001b[39m \u001b[38;5;28;01mNone\u001b[39;00m\n\u001b[0;32m     67\u001b[0m \u001b[38;5;28mself\u001b[39m\u001b[38;5;241m.\u001b[39mzipfile_path \u001b[38;5;241m=\u001b[39m os\u001b[38;5;241m.\u001b[39mpath\u001b[38;5;241m.\u001b[39mjoin(dataset_with_metadata, \u001b[38;5;124m'\u001b[39m\u001b[38;5;124marchive\u001b[39m\u001b[38;5;124m'\u001b[39m)\n\u001b[1;32m---> 68\u001b[0m image_files_list \u001b[38;5;241m=\u001b[39m \u001b[38;5;28mmap\u001b[39m(\u001b[38;5;28mself\u001b[39m\u001b[38;5;241m.\u001b[39mfilter_image_list, \u001b[38;5;28;43mself\u001b[39;49m\u001b[38;5;241;43m.\u001b[39;49m\u001b[43mlist_dirs_files\u001b[49m\u001b[43m(\u001b[49m\u001b[38;5;28;43mself\u001b[39;49m\u001b[38;5;241;43m.\u001b[39;49m\u001b[43mzipfile_path\u001b[49m\u001b[43m)\u001b[49m)\n\u001b[0;32m     69\u001b[0m image_files_list \u001b[38;5;241m=\u001b[39m [image_path \u001b[38;5;28;01mfor\u001b[39;00m image_path \u001b[38;5;129;01min\u001b[39;00m image_files_list \u001b[38;5;28;01mif\u001b[39;00m image_path \u001b[38;5;129;01mis\u001b[39;00m \u001b[38;5;129;01mnot\u001b[39;00m \u001b[38;5;28;01mNone\u001b[39;00m]\n\u001b[0;32m     70\u001b[0m \u001b[38;5;66;03m# print(len(image_files_list))\u001b[39;00m\n",
      "Cell \u001b[1;32mIn[4], line 11\u001b[0m, in \u001b[0;36mClassifyDatasets.list_dirs_files\u001b[1;34m(self, path)\u001b[0m\n\u001b[0;32m     10\u001b[0m \u001b[38;5;28;01mdef\u001b[39;00m \u001b[38;5;21mlist_dirs_files\u001b[39m(\u001b[38;5;28mself\u001b[39m, path: \u001b[38;5;28mstr\u001b[39m \u001b[38;5;241m=\u001b[39m \u001b[38;5;28;01mNone\u001b[39;00m) \u001b[38;5;241m-\u001b[39m\u001b[38;5;241m>\u001b[39m \u001b[38;5;28mlist\u001b[39m:\n\u001b[1;32m---> 11\u001b[0m     \u001b[38;5;28;01mreturn\u001b[39;00m \u001b[43mos\u001b[49m\u001b[38;5;241;43m.\u001b[39;49m\u001b[43mlistdir\u001b[49m\u001b[43m(\u001b[49m\u001b[43mpath\u001b[49m\u001b[43m)\u001b[49m\n",
      "\u001b[1;31mFileNotFoundError\u001b[0m: [WinError 3] The system cannot find the path specified: '../dataset\\\\1. Eczema 1677\\\\archive'"
     ]
    }
   ],
   "source": [
    "cd = ClassifyDatasets(datasets=input_folder_path,\n",
    "                      input_dataset=input_dataset)\n",
    "print(cd._main())"
   ]
  },
  {
   "cell_type": "code",
   "execution_count": 24,
   "id": "19d3b2ff-aa9c-4ac3-a778-f5d139dc5476",
   "metadata": {},
   "outputs": [],
   "source": [
    "import os\n",
    "\n",
    "class ClassifyDatasets:\n",
    "    def __init__(self, datasets: str = None, input_dataset: str = None) -> None:\n",
    "        self.datasets = datasets\n",
    "        self.input_dataset = input_dataset\n",
    "        # Rest of your code here\n",
    "\n",
    "    # Rest of your methods here\n",
    "\n",
    "    def _main(self):\n",
    "        # Rest of your code here\n",
    "        pass\n",
    "\n",
    "# Set the input_folder_path and input_dataset variables\n",
    "input_folder_path = \"/input/dermoscopic/datasets\"\n",
    "input_dataset = 'input_dataset'\n",
    "\n",
    "# Create an instance of ClassifyDatasets\n",
    "cd = ClassifyDatasets(datasets=input_folder_path, input_dataset=input_dataset)\n",
    "\n",
    "# Call the _main() method\n",
    "cd._main()\n"
   ]
  },
  {
   "cell_type": "code",
   "execution_count": 25,
   "id": "40f8dc31-85e2-442c-a575-7be4f6813517",
   "metadata": {},
   "outputs": [
    {
     "ename": "ModuleNotFoundError",
     "evalue": "No module named 'seaborn'",
     "output_type": "error",
     "traceback": [
      "\u001b[1;31m---------------------------------------------------------------------------\u001b[0m",
      "\u001b[1;31mModuleNotFoundError\u001b[0m                       Traceback (most recent call last)",
      "Cell \u001b[1;32mIn[25], line 5\u001b[0m\n\u001b[0;32m      3\u001b[0m \u001b[38;5;28;01mimport\u001b[39;00m \u001b[38;5;21;01mnumpy\u001b[39;00m \u001b[38;5;28;01mas\u001b[39;00m \u001b[38;5;21;01mnp\u001b[39;00m\n\u001b[0;32m      4\u001b[0m \u001b[38;5;28;01mimport\u001b[39;00m \u001b[38;5;21;01mpandas\u001b[39;00m \u001b[38;5;28;01mas\u001b[39;00m \u001b[38;5;21;01mpd\u001b[39;00m\n\u001b[1;32m----> 5\u001b[0m \u001b[38;5;28;01mimport\u001b[39;00m \u001b[38;5;21;01mseaborn\u001b[39;00m \u001b[38;5;28;01mas\u001b[39;00m \u001b[38;5;21;01msns\u001b[39;00m\n",
      "\u001b[1;31mModuleNotFoundError\u001b[0m: No module named 'seaborn'"
     ]
    }
   ],
   "source": [
    "import tensorflow as tf\n",
    "from tensorflow.keras import layers\n",
    "import numpy as np\n",
    "import pandas as pd\n",
    "import seaborn as sns"
   ]
  },
  {
   "cell_type": "code",
   "execution_count": null,
   "id": "53643e42-cf5a-4dd1-9853-f1763af30d69",
   "metadata": {},
   "outputs": [],
   "source": []
  }
 ],
 "metadata": {
  "kernelspec": {
   "display_name": "Python 3 (ipykernel)",
   "language": "python",
   "name": "python3"
  },
  "language_info": {
   "codemirror_mode": {
    "name": "ipython",
    "version": 3
   },
   "file_extension": ".py",
   "mimetype": "text/x-python",
   "name": "python",
   "nbconvert_exporter": "python",
   "pygments_lexer": "ipython3",
   "version": "3.10.0"
  }
 },
 "nbformat": 4,
 "nbformat_minor": 5
}
